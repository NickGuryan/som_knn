{
 "cells": [
  {
   "cell_type": "code",
   "execution_count": 2,
   "metadata": {
    "collapsed": true
   },
   "outputs": [],
   "source": [
    "import numpy as np #матричные вычисления\n",
    "import random #рандомы для матрицы весов\n",
    "import math #модуль, экспонента"
   ]
  },
  {
   "cell_type": "markdown",
   "metadata": {},
   "source": [
    "# Реализация класса для нейронной сети Кохонена\n",
    "Классифицирует на 9 цветов. Мерой расстояния использую расстояние Чебышева. Нормировка на 255(при обычной нормировке результат сильно не меняется). Сеть нестабильна из-за начальных рандомных весов. Точность в районе 70-90%."
   ]
  },
  {
   "cell_type": "code",
   "execution_count": 10,
   "metadata": {
    "collapsed": true
   },
   "outputs": [],
   "source": [
    "class SOP():\n",
    "    def __init__(self, n_iter):\n",
    "        self.n_iter = n_iter\n",
    "        #self.D = D\n",
    "        #self.alpha = alpha\n",
    "        self.n_class = 9\n",
    "        self.w = []\n",
    "        self.colorList = []\n",
    "    \n",
    "    #нормировка вектора\n",
    "    def sumSqrt(self,x): #корень суммы квадратов вектора x\n",
    "        s = 0\n",
    "        for i in x:\n",
    "            s+=i**2\n",
    "        return s**(1/2)\n",
    "    def norma(self, x): #нормировка вектора x на 255\n",
    "        X1 = []\n",
    "        for i in x:\n",
    "            x1 = []\n",
    "            s = self.sumSqrt(i)\n",
    "            for j in i:\n",
    "                if(s!=0):\n",
    "                    x1.append(j/255)\n",
    "                else:\n",
    "                    x1.append(j)\n",
    "            X1.append(x1)\n",
    "        return X1\n",
    "    \n",
    "    def euqlid(self, x, w): #расстояние: Евклидово или Чебышева\n",
    "        dist = []\n",
    "        for j in range(self.n_class):\n",
    "            d = 0\n",
    "            maxd = 0\n",
    "            for i in range(len(x)):\n",
    "                #d+=(x[i]-w[i][j])**2 euqlid\n",
    "                d = math.fabs(x[i]-w[i][j])\n",
    "                if(d>maxd):\n",
    "                    maxd = d\n",
    "            dist.append(maxd)\n",
    "        return dist\n",
    "    \n",
    "    def reWeight(self, k, alpha, w, x, D): #перевесовка\n",
    "        ind = []\n",
    "        #print(w)\n",
    "        w1 = w.T[k]\n",
    "        distK = self.euqlid(w1, w)\n",
    "        #print(w1, distK)\n",
    "        W = w.copy()\n",
    "\n",
    "        for i in range(len(distK)):\n",
    "            if(distK[i]<=D):\n",
    "                ind.append(i)\n",
    "        #print(ind)\n",
    "        for j in ind:\n",
    "            for i in range(len(x)):\n",
    "                W[i][j]=w[i][j]+alpha*(x[i]-w[i][j])\n",
    "        return W\n",
    "    \n",
    "    def result(self, Xtest):\n",
    "        res = []\n",
    "        for x in Xtest:\n",
    "            testDist = self.euqlid(x, self.w)\n",
    "            k = np.argmin(testDist)\n",
    "            res.append(k)\n",
    "        return res\n",
    "    \n",
    "    def colorName(self, Xtrain):\n",
    "        basisName = {}\n",
    "        Ytrain = self.result(Xtrain)\n",
    "        #print(Ytrain)\n",
    "        colors = ['black', 'red', 'green','blue', 'yellow', 'cyan', 'magenta','white','brown']\n",
    "        for i in range(len(Ytrain)):\n",
    "            basisName[Ytrain[i]] = colors[i]\n",
    "        return basisName\n",
    "    \n",
    "    def findName(self, res, resName):\n",
    "        color = []\n",
    "        for i in res:\n",
    "            color.append(resName[i])\n",
    "        return color\n",
    "    \n",
    "    def fit(self):\n",
    "        self.w = np.array([[random.uniform(0, 0.4) for t in range(self.n_class)] for i in range(3)])\n",
    "        \n",
    "        tenColors = [[0, 0, 0], [255, 0, 0], [0, 255, 0], [0, 0, 255], [255, 255, 0], [0, 255, 255], [255, 0, 255], [255, 255, 255],[126,41,31]]\n",
    "        Xtrain = self.norma(tenColors)\n",
    "        \n",
    "        alpha = 0.9\n",
    "        D = 0.03\n",
    "        for l in range(self.n_iter):\n",
    "            for t in range(self.n_class):\n",
    "                x = Xtrain[t]\n",
    "\n",
    "                dist = self.euqlid(x, self.w)\n",
    "                k = np.argmin(dist)\n",
    "\n",
    "                #print(k)\n",
    "                self.w = self.reWeight(k, alpha, self.w, x, D)\n",
    "\n",
    "                alpha -= 0.003\n",
    "                D -= 0.001\n",
    "        \n",
    "        #print(self.result(Xtrain))\n",
    "        self.colorList = self.colorName(Xtrain)\n",
    "        \n",
    "        return self.w\n",
    "    \n",
    "    def detect(self, test):\n",
    "        Xtest = self.norma(test)\n",
    "        \n",
    "        #print(self.colorList)\n",
    "        if(len(self.colorList)==self.n_class):\n",
    "            codes_Ytest = self.result(Xtest)\n",
    "            colors_Ytest = self.findName(codes_Ytest, self.colorList)\n",
    "\n",
    "            return colors_Ytest\n",
    "        else:\n",
    "            print('Refit, please')"
   ]
  },
  {
   "cell_type": "markdown",
   "metadata": {},
   "source": [
    "## Пример"
   ]
  },
  {
   "cell_type": "markdown",
   "metadata": {},
   "source": [
    "Иницилизация"
   ]
  },
  {
   "cell_type": "code",
   "execution_count": 11,
   "metadata": {
    "collapsed": true
   },
   "outputs": [],
   "source": [
    "a = SOP(n_iter = 100)"
   ]
  },
  {
   "cell_type": "markdown",
   "metadata": {},
   "source": [
    "Обучение"
   ]
  },
  {
   "cell_type": "code",
   "execution_count": 21,
   "metadata": {
    "collapsed": false
   },
   "outputs": [
    {
     "data": {
      "text/plain": [
       "array([[  9.97507171e-01,   9.99756384e-01,   1.03803228e-05,\n",
       "          3.30533293e-04,   9.97799007e-01,   2.93692151e-04,\n",
       "          7.61277611e-05,   4.92798689e-01,   9.97046939e-01],\n",
       "       [  9.37352637e-05,   6.62396405e-05,   4.99013581e-06,\n",
       "          4.72263822e-04,   9.98164049e-01,   9.97720028e-01,\n",
       "          9.99710860e-01,   1.60372405e-01,   9.97191463e-01],\n",
       "       [  9.97543131e-01,   7.78957764e-05,   1.90127475e-05,\n",
       "          9.98415339e-01,   3.68409462e-04,   9.97817018e-01,\n",
       "          9.83778328e-05,   1.22151640e-01,   9.97306907e-01]])"
      ]
     },
     "execution_count": 21,
     "metadata": {},
     "output_type": "execute_result"
    }
   ],
   "source": [
    "a.fit()"
   ]
  },
  {
   "cell_type": "code",
   "execution_count": 22,
   "metadata": {
    "collapsed": true
   },
   "outputs": [],
   "source": [
    "test = [[4,1,21],[255,255,255], [205,97,248],[126,41,31],[255,106,0]]"
   ]
  },
  {
   "cell_type": "markdown",
   "metadata": {},
   "source": [
    "Классификация (если возвращет 'Refit, please!', значит нужно заново обучить на тех же данных(аномальные веса на этапе иницилизации))"
   ]
  },
  {
   "cell_type": "code",
   "execution_count": 23,
   "metadata": {
    "collapsed": false
   },
   "outputs": [
    {
     "data": {
      "text/plain": [
       "['black', 'white', 'magenta', 'brown', 'red']"
      ]
     },
     "execution_count": 23,
     "metadata": {},
     "output_type": "execute_result"
    }
   ],
   "source": [
    "a.detect(test)"
   ]
  },
  {
   "cell_type": "code",
   "execution_count": 24,
   "metadata": {
    "collapsed": false
   },
   "outputs": [
    {
     "data": {
      "text/plain": [
       "['red', 'brown', 'brown', 'white', 'magenta', 'black']"
      ]
     },
     "execution_count": 24,
     "metadata": {},
     "output_type": "execute_result"
    }
   ],
   "source": [
    "a.detect([[255,105,0],[144,134,0],[200,97,106],[166,175,179],[201,7,159],[0,2,3]])"
   ]
  },
  {
   "cell_type": "markdown",
   "metadata": {},
   "source": [
    "### True: red, brown, brown, white, magenta, black"
   ]
  }
 ],
 "metadata": {
  "anaconda-cloud": {},
  "kernelspec": {
   "display_name": "Python [default]",
   "language": "python",
   "name": "python3"
  },
  "language_info": {
   "codemirror_mode": {
    "name": "ipython",
    "version": 3
   },
   "file_extension": ".py",
   "mimetype": "text/x-python",
   "name": "python",
   "nbconvert_exporter": "python",
   "pygments_lexer": "ipython3",
   "version": "3.5.2"
  }
 },
 "nbformat": 4,
 "nbformat_minor": 1
}
